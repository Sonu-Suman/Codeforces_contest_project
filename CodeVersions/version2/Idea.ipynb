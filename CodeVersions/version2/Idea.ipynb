{
 "cells": [
  {
   "cell_type": "markdown",
   "id": "1889e07e",
   "metadata": {},
   "source": [
    "# Codeforces Contest Div-3"
   ]
  },
  {
   "cell_type": "markdown",
   "id": "ccc042d3",
   "metadata": {},
   "source": [
    "# Search Here:"
   ]
  },
  {
   "cell_type": "code",
   "execution_count": 28,
   "id": "3d038e8e",
   "metadata": {},
   "outputs": [
    {
     "name": "stdout",
     "output_type": "stream",
     "text": [
      "\t1: Contest question by Contest Number\n",
      "\t2: Contest Number by Question\n",
      "Enter your choosen Number: 2\n",
      "Enter your Contest Number: 1674E - Breaking the Wall\n",
      "\n",
      "================================This is your contest number========================================\n",
      "\n",
      "Your Contest Number:\t 786\n"
     ]
    }
   ],
   "source": [
    "d = \"\\t1: Contest question by Contest Number\\n\\t2: Contest Number by Question\\n\"\n",
    "print(d)\n",
    "n = input(\"Enter your choosen Number: \")\n",
    "\n",
    "if n=='1':\n",
    "    try:\n",
    "        get_question = int(input(\"Enter your Contest Number: \"))\n",
    "    except:\n",
    "        print(\"You entered wrong Values please enter right value!\")\n",
    "    \n",
    "    print(\"\\n=======================================Here is your List========================================\\n\")\n",
    "    for i in Div3[get_question]:\n",
    "        print(\"\\t\",i)\n",
    "        \n",
    "elif n=='2':\n",
    "    try:\n",
    "        get_number = input(\"Enter your Contest Number: \")\n",
    "    except:\n",
    "        print(\"You entered wrong Values please enter right value!\")\n",
    "    print('\\n================================This is your contest number========================================\\n')\n",
    "    for keys, values in Div3.items():\n",
    "        for j in values:\n",
    "            if j == get_number:\n",
    "                print('Your Contest Number:\\t', keys)"
   ]
  },
  {
   "cell_type": "code",
   "execution_count": 1,
   "id": "4fdc60bb",
   "metadata": {},
   "outputs": [],
   "source": [
    "Div3 = {786:[\"1674A - Number Transformation\", \"1674B - Dictionary\", \"1674C - Infinite Replacement\", \"1674D - A-B-C Sort\", \n",
    "            \"1674E - Breaking the Wall\", \"1674F - Desktop Rearrangement\", \"1674G - Remove Directed Edges\"],\n",
    "       787: []}"
   ]
  },
  {
   "cell_type": "markdown",
   "id": "73e3af91",
   "metadata": {},
   "source": [
    "# Searching by Contest Number of Div-3 section"
   ]
  },
  {
   "cell_type": "code",
   "execution_count": 2,
   "id": "cb3706f6",
   "metadata": {},
   "outputs": [
    {
     "name": "stdout",
     "output_type": "stream",
     "text": [
      "{'1674E - Breaking the Wall', '1674A - Number Transformation', '1674B - Dictionary', '1674C - Infinite Replacement', '1674F - Desktop Rearrangement', '1674G - Remove Directed Edges', '1674D - A-B-C Sort'}\n"
     ]
    }
   ],
   "source": [
    "# print(Div3[786])"
   ]
  },
  {
   "cell_type": "code",
   "execution_count": 16,
   "id": "21ae07ec",
   "metadata": {},
   "outputs": [
    {
     "name": "stdout",
     "output_type": "stream",
     "text": [
      "786\n"
     ]
    }
   ],
   "source": [
    "# for keys, values in Div3.items():\n",
    "#     for j in values:\n",
    "#         if j == '1674D - A-B-C Sort':\n",
    "#             print(keys)"
   ]
  },
  {
   "cell_type": "markdown",
   "id": "8a18925a",
   "metadata": {},
   "source": [
    "[[https://codeforces.com/blog/entry/102482](url_herr)]"
   ]
  },
  {
   "cell_type": "code",
   "execution_count": 40,
   "id": "24b43716",
   "metadata": {},
   "outputs": [
    {
     "data": {
      "text/html": [
       "<a href=\"https://codeforces.com/blog/entry/102482\">Div3-786</a>\tCodeforces Contest Div3 url"
      ],
      "text/plain": [
       "<IPython.core.display.HTML object>"
      ]
     },
     "metadata": {},
     "output_type": "display_data"
    }
   ],
   "source": [
    "from IPython.core.display import display, HTML\n",
    "name = \"\\tCodeforces Contest Div3 url\"\n",
    "display(HTML(\"\"\"<a href=\"https://codeforces.com/blog/entry/102482\">Div3-786</a>{}\"\"\".format(name)))"
   ]
  },
  {
   "cell_type": "code",
   "execution_count": null,
   "id": "120b90bf",
   "metadata": {},
   "outputs": [],
   "source": []
  }
 ],
 "metadata": {
  "kernelspec": {
   "display_name": "Python 3 (ipykernel)",
   "language": "python",
   "name": "python3"
  },
  "language_info": {
   "codemirror_mode": {
    "name": "ipython",
    "version": 3
   },
   "file_extension": ".py",
   "mimetype": "text/x-python",
   "name": "python",
   "nbconvert_exporter": "python",
   "pygments_lexer": "ipython3",
   "version": "3.9.6"
  }
 },
 "nbformat": 4,
 "nbformat_minor": 5
}
